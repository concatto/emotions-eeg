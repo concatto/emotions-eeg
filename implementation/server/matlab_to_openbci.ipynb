{
 "cells": [
  {
   "cell_type": "code",
   "execution_count": 1,
   "metadata": {},
   "outputs": [],
   "source": [
    "import scipy.io as spio\n",
    "import pandas as pd\n",
    "import matplotlib.pyplot as plt\n",
    "from scipy import signal\n",
    "from tsfresh import extract_features, extract_relevant_features, select_features\n",
    "import numpy as np\n",
    "import re\n",
    "from bottleneck import move_mean\n",
    "\n",
    "def find_regex_index(regex, dictionary):\n",
    "    return [index for index, value in dictionary.items() if re.match(regex, index)][0]\n"
   ]
  },
  {
   "cell_type": "code",
   "execution_count": 3,
   "metadata": {},
   "outputs": [
    {
     "output_type": "execute_result",
     "data": {
      "text/plain": "dict_keys(['__header__', '__version__', '__globals__', 'zjy_eeg1', 'zjy_eeg2', 'zjy_eeg3', 'zjy_eeg4', 'zjy_eeg5', 'zjy_eeg6', 'zjy_eeg7', 'zjy_eeg8', 'zjy_eeg9', 'zjy_eeg10', 'zjy_eeg11', 'zjy_eeg12', 'zjy_eeg13', 'zjy_eeg14', 'zjy_eeg15', 'zjy_eeg16', 'zjy_eeg17', 'zjy_eeg18', 'zjy_eeg19', 'zjy_eeg20', 'zjy_eeg21', 'zjy_eeg22', 'zjy_eeg23', 'zjy_eeg24'])"
     },
     "metadata": {},
     "execution_count": 3
    }
   ],
   "source": [
    "mat_data_raw = spio.loadmat('D:\\\\facul\\\\eeg_raw_data\\\\1\\\\15_20150508.mat')\n",
    "\n",
    "mat_data_raw.keys()"
   ]
  },
  {
   "cell_type": "code",
   "execution_count": 5,
   "metadata": {},
   "outputs": [
    {
     "output_type": "execute_result",
     "data": {
      "text/plain": "(62, 33601)"
     },
     "metadata": {},
     "execution_count": 5
    }
   ],
   "source": [
    "mat_data_raw['zjy_eeg1'].shape"
   ]
  },
  {
   "cell_type": "code",
   "execution_count": 6,
   "metadata": {},
   "outputs": [
    {
     "output_type": "execute_result",
     "data": {
      "text/plain": "array([ 36.62705421, -24.58691597,  53.07793617, -28.40161324,\n        39.10064697, -24.73592758,  50.15730858, -36.59725189,\n        29.6831131 , -34.481287  ,  45.29953003, -35.16674042,\n        33.70642662, -34.60049629,  41.87226295, -43.54119301,\n        23.09679985, -46.96846008,  32.66334534, -50.81295967,\n        27.6863575 , -34.92832184,  30.84540367, -48.75659943,\n        26.16643906, -39.21985626,  39.48807716, -45.388937  ,\n        18.53704453, -37.90855408,  36.92507744, -44.91209984,\n        30.51757812, -41.90206528,  36.53764725, -43.21336746,\n        24.79553223, -43.00475121,  35.37535667, -43.03455353,\n        33.1401825 , -32.2163105 ,  40.02451897, -45.86577415,\n        30.2195549 , -40.50135612,  31.38184547, -45.50814629,\n        23.1564045 , -36.65685654,  41.27621651, -38.83242607,\n        27.83536911, -40.62056541,  33.61701965, -43.83921623,\n        27.4181366 , -36.23962402,  38.86222839, -30.27915955,\n        47.32608795, -19.28210258,  46.37241364, -34.09385681,\n        43.24316978, -19.34170723,  63.92598152, -25.65979958,\n        42.85573959, -24.43790436,  59.72385406, -31.35204315,\n        20.7722187 , -32.39512444,  68.66455078, -16.65949821,\n        54.32963371, -22.32193947,  53.40576172, -28.04398537,\n        51.23019218, -20.71261406,  53.07793617, -23.72264862,\n        51.25999451, -16.06345177,  58.50195885, -45.06111145,\n        50.30632019, -15.37799835,  53.79319191, -23.57363701,\n        52.83951759, -27.50754356,  52.54149437, -20.80202103,\n        45.26972771, -21.66628838,  57.51848221, -18.44763756])"
     },
     "metadata": {},
     "execution_count": 6
    }
   ],
   "source": [
    "mat_data_raw['zjy_eeg1'][0][:100]"
   ]
  },
  {
   "cell_type": "code",
   "execution_count": 8,
   "metadata": {},
   "outputs": [
    {
     "output_type": "execute_result",
     "data": {
      "text/plain": "               0          1          2          3          4          5  \\\n0      30.010939  40.352345  31.232834  38.832426  44.554472  24.914742   \n1     -35.256147 -17.553568 -33.915043 -16.689301 -12.665987 -20.593405   \n2      50.097704  63.389540  51.796436  33.736229  53.137541  30.606985   \n3     -37.670135 -25.004148 -35.613775 -23.216009 -20.980835 -32.663345   \n4      33.587217  41.872263  35.375357  41.097403  34.093857  20.503998   \n...          ...        ...        ...        ...        ...        ...   \n33596  -2.533197  15.497208  -8.583069  -2.861023  -0.596046  14.722347   \n33597  51.647425  74.326992  45.776367  27.209520  64.224005  80.049038   \n33598  -5.364418  -0.476837 -10.967255  14.632940  14.930964  22.917986   \n33599  58.770180  66.578388  50.902367  72.479248  75.340271  75.399876   \n33600  25.957823  11.146069  23.573637   6.377697  30.010939  29.504299   \n\n      empty_channel_1 empty_channel_2 accelerometer_X accelerometer_Y  \\\n0                0.00            0.00           0.000           0.000   \n1                0.00            0.00           0.000           0.000   \n2                0.00            0.00           0.000           0.000   \n3                0.00            0.00           0.000           0.000   \n4                0.00            0.00           0.000           0.000   \n...               ...             ...             ...             ...   \n33596            0.00            0.00           0.000           0.000   \n33597            0.00            0.00           0.000           0.000   \n33598            0.00            0.00           0.000           0.000   \n33599            0.00            0.00           0.000           0.000   \n33600            0.00            0.00           0.000           0.000   \n\n      accelerometer_Z timestamp  \n0               0.000            \n1               0.000            \n2               0.000            \n3               0.000            \n4               0.000            \n...               ...       ...  \n33596           0.000            \n33597           0.000            \n33598           0.000            \n33599           0.000            \n33600           0.000            \n\n[33601 rows x 12 columns]",
      "text/html": "<div>\n<style scoped>\n    .dataframe tbody tr th:only-of-type {\n        vertical-align: middle;\n    }\n\n    .dataframe tbody tr th {\n        vertical-align: top;\n    }\n\n    .dataframe thead th {\n        text-align: right;\n    }\n</style>\n<table border=\"1\" class=\"dataframe\">\n  <thead>\n    <tr style=\"text-align: right;\">\n      <th></th>\n      <th>0</th>\n      <th>1</th>\n      <th>2</th>\n      <th>3</th>\n      <th>4</th>\n      <th>5</th>\n      <th>empty_channel_1</th>\n      <th>empty_channel_2</th>\n      <th>accelerometer_X</th>\n      <th>accelerometer_Y</th>\n      <th>accelerometer_Z</th>\n      <th>timestamp</th>\n    </tr>\n  </thead>\n  <tbody>\n    <tr>\n      <th>0</th>\n      <td>30.010939</td>\n      <td>40.352345</td>\n      <td>31.232834</td>\n      <td>38.832426</td>\n      <td>44.554472</td>\n      <td>24.914742</td>\n      <td>0.00</td>\n      <td>0.00</td>\n      <td>0.000</td>\n      <td>0.000</td>\n      <td>0.000</td>\n      <td></td>\n    </tr>\n    <tr>\n      <th>1</th>\n      <td>-35.256147</td>\n      <td>-17.553568</td>\n      <td>-33.915043</td>\n      <td>-16.689301</td>\n      <td>-12.665987</td>\n      <td>-20.593405</td>\n      <td>0.00</td>\n      <td>0.00</td>\n      <td>0.000</td>\n      <td>0.000</td>\n      <td>0.000</td>\n      <td></td>\n    </tr>\n    <tr>\n      <th>2</th>\n      <td>50.097704</td>\n      <td>63.389540</td>\n      <td>51.796436</td>\n      <td>33.736229</td>\n      <td>53.137541</td>\n      <td>30.606985</td>\n      <td>0.00</td>\n      <td>0.00</td>\n      <td>0.000</td>\n      <td>0.000</td>\n      <td>0.000</td>\n      <td></td>\n    </tr>\n    <tr>\n      <th>3</th>\n      <td>-37.670135</td>\n      <td>-25.004148</td>\n      <td>-35.613775</td>\n      <td>-23.216009</td>\n      <td>-20.980835</td>\n      <td>-32.663345</td>\n      <td>0.00</td>\n      <td>0.00</td>\n      <td>0.000</td>\n      <td>0.000</td>\n      <td>0.000</td>\n      <td></td>\n    </tr>\n    <tr>\n      <th>4</th>\n      <td>33.587217</td>\n      <td>41.872263</td>\n      <td>35.375357</td>\n      <td>41.097403</td>\n      <td>34.093857</td>\n      <td>20.503998</td>\n      <td>0.00</td>\n      <td>0.00</td>\n      <td>0.000</td>\n      <td>0.000</td>\n      <td>0.000</td>\n      <td></td>\n    </tr>\n    <tr>\n      <th>...</th>\n      <td>...</td>\n      <td>...</td>\n      <td>...</td>\n      <td>...</td>\n      <td>...</td>\n      <td>...</td>\n      <td>...</td>\n      <td>...</td>\n      <td>...</td>\n      <td>...</td>\n      <td>...</td>\n      <td>...</td>\n    </tr>\n    <tr>\n      <th>33596</th>\n      <td>-2.533197</td>\n      <td>15.497208</td>\n      <td>-8.583069</td>\n      <td>-2.861023</td>\n      <td>-0.596046</td>\n      <td>14.722347</td>\n      <td>0.00</td>\n      <td>0.00</td>\n      <td>0.000</td>\n      <td>0.000</td>\n      <td>0.000</td>\n      <td></td>\n    </tr>\n    <tr>\n      <th>33597</th>\n      <td>51.647425</td>\n      <td>74.326992</td>\n      <td>45.776367</td>\n      <td>27.209520</td>\n      <td>64.224005</td>\n      <td>80.049038</td>\n      <td>0.00</td>\n      <td>0.00</td>\n      <td>0.000</td>\n      <td>0.000</td>\n      <td>0.000</td>\n      <td></td>\n    </tr>\n    <tr>\n      <th>33598</th>\n      <td>-5.364418</td>\n      <td>-0.476837</td>\n      <td>-10.967255</td>\n      <td>14.632940</td>\n      <td>14.930964</td>\n      <td>22.917986</td>\n      <td>0.00</td>\n      <td>0.00</td>\n      <td>0.000</td>\n      <td>0.000</td>\n      <td>0.000</td>\n      <td></td>\n    </tr>\n    <tr>\n      <th>33599</th>\n      <td>58.770180</td>\n      <td>66.578388</td>\n      <td>50.902367</td>\n      <td>72.479248</td>\n      <td>75.340271</td>\n      <td>75.399876</td>\n      <td>0.00</td>\n      <td>0.00</td>\n      <td>0.000</td>\n      <td>0.000</td>\n      <td>0.000</td>\n      <td></td>\n    </tr>\n    <tr>\n      <th>33600</th>\n      <td>25.957823</td>\n      <td>11.146069</td>\n      <td>23.573637</td>\n      <td>6.377697</td>\n      <td>30.010939</td>\n      <td>29.504299</td>\n      <td>0.00</td>\n      <td>0.00</td>\n      <td>0.000</td>\n      <td>0.000</td>\n      <td>0.000</td>\n      <td></td>\n    </tr>\n  </tbody>\n</table>\n<p>33601 rows × 12 columns</p>\n</div>"
     },
     "metadata": {},
     "execution_count": 8
    }
   ],
   "source": [
    "\n",
    "# electrode order on mat file\n",
    "electrode_order_names = ['FP1', 'FPZ', 'FP2', 'AF3', 'AF4', 'F7', 'F5', 'F3', 'F1', 'FZ', 'F2', 'F4', 'F6', 'F8', 'FT7', 'FC5', 'FC3', 'FC1', 'FCZ', 'FC2', 'FC4', 'FC6', 'FT8', 'T7', 'C5', 'C3', 'C1', 'CZ', 'C2', 'C4', 'C6', 'T8', 'TP7', 'CP5', 'CP3', 'CP1', 'CPZ', 'CP2', 'CP4', 'CP6', 'TP8', 'P7', 'P5', 'P3', 'P1', 'PZ', 'P2', 'P4', 'P6', 'P8', 'PO7', 'PO5', 'PO3', 'POZ', 'PO4', 'PO6', 'PO8', 'CB1', 'O1', 'OZ', 'O2', 'CB2']\n",
    "\n",
    "electrode_names = ['T7', 'T8', 'FT7', 'FT8', 'TP7', 'TP8']\n",
    "electrode_names_indices = [i for i, x in enumerate(electrode_order_names) if x in electrode_names]\n",
    "\n",
    "mat_subset = [val for i, val in enumerate(mat_data_raw['zjy_eeg1']) if i in electrode_names_indices]\n",
    "\n",
    "\n",
    "df = pd.DataFrame(np.array(mat_subset).T)\n",
    "sf = 200\n",
    "df['empty_channel_1'] = \"0.00\"\n",
    "df['empty_channel_2'] = \"0.00\"\n",
    "df['accelerometer_X'] = \"0.000\"\n",
    "df['accelerometer_Y'] = \"0.000\"\n",
    "df['accelerometer_Z'] = \"0.000\"\n",
    "df['timestamp'] = \"\"\n",
    "df\n"
   ]
  },
  {
   "cell_type": "code",
   "execution_count": 11,
   "metadata": {},
   "outputs": [],
   "source": [
    "# filename = './test_SAD_LABEL_INDEX_1.txt'\n",
    "filename = './user_15_trial_0_label_negative.txt'\n"
   ]
  },
  {
   "cell_type": "code",
   "execution_count": 12,
   "metadata": {},
   "outputs": [],
   "source": [
    "df.to_csv(filename, header=False, sep=',')\n",
    "\n",
    "\n",
    "f = open(filename,'r')\n",
    "filedata = f.read()\n",
    "f.close()\n",
    "\n",
    "newdata = filedata.replace(\",\",\" ,\")\n",
    "\n",
    "\n",
    "fileheader = ('\\n').join([\n",
    "    \"%OpenBCI Raw EEG Data\",\n",
    "    \"%Number of channels = \" + str(len(electrode_names)),\n",
    "    \"%Sample Rate = \" + str(sf) + ' Hz',\n",
    "    \"%First Column = SampleIndex\",\n",
    "    \"%Last Column = Timestamp \",\n",
    "    \"%Other Columns = EEG data in microvolts followed by Accel Data (in G) interleaved with Aux Data\",\n",
    "    \"\"\n",
    "])\n",
    "\n",
    "f = open(filename,'w')\n",
    "f.write(fileheader)\n",
    "f.write(newdata)\n",
    "f.close()"
   ]
  }
 ],
 "metadata": {
  "language_info": {
   "codemirror_mode": {
    "name": "ipython",
    "version": 3
   },
   "file_extension": ".py",
   "mimetype": "text/x-python",
   "name": "python",
   "nbconvert_exporter": "python",
   "pygments_lexer": "ipython3",
   "version": "3.6.10-final"
  },
  "orig_nbformat": 2,
  "kernelspec": {
   "name": "python3",
   "display_name": "Python 3"
  }
 },
 "nbformat": 4,
 "nbformat_minor": 2
}